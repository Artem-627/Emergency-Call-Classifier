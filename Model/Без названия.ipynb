{
 "cells": [
  {
   "cell_type": "code",
   "execution_count": 1,
   "id": "7f27939c",
   "metadata": {},
   "outputs": [],
   "source": [
    "# Подключение необходимых библиотек\n",
    "import pandas as pd\n",
    "import numpy as np\n",
    "import nltk\n",
    "from nltk.tokenize import word_tokenize\n",
    "from nltk.corpus import stopwords\n",
    "from sklearn.linear_model import LogisticRegression\n",
    "from sklearn.model_selection import train_test_split\n",
    "from collections import Counter\n"
   ]
  },
  {
   "cell_type": "code",
   "execution_count": 2,
   "id": "a9f00e67",
   "metadata": {},
   "outputs": [
    {
     "name": "stderr",
     "output_type": "stream",
     "text": [
      "[nltk_data] Downloading package punkt to /home/artem627/nltk_data...\n",
      "[nltk_data]   Package punkt is already up-to-date!\n",
      "[nltk_data] Downloading package stopwords to\n",
      "[nltk_data]     /home/artem627/nltk_data...\n",
      "[nltk_data]   Package stopwords is already up-to-date!\n"
     ]
    },
    {
     "data": {
      "text/plain": [
       "True"
      ]
     },
     "execution_count": 2,
     "metadata": {},
     "output_type": "execute_result"
    }
   ],
   "source": [
    "# Скачивание ресурсов, которые нужны для обработки данных\n",
    "nltk.download('punkt')\n",
    "nltk.download('stopwords')"
   ]
  },
  {
   "cell_type": "code",
   "execution_count": 3,
   "id": "22942539",
   "metadata": {},
   "outputs": [],
   "source": [
    "# Создание констант\n",
    "max_words = 10000\n",
    "random_state = 42"
   ]
  },
  {
   "cell_type": "code",
   "execution_count": 4,
   "id": "8cca79cd",
   "metadata": {},
   "outputs": [],
   "source": [
    "# Открытие файла набора данных\n",
    "train_data = pd.read_csv('dataset.csv', sep=',', index_col='idx');jupyter nbconvert your_notebook.ipynb --to pdf"
   ]
  },
  {
   "cell_type": "code",
   "execution_count": 5,
   "id": "31d70259",
   "metadata": {},
   "outputs": [],
   "source": [
    "# Фjupyter nbconvert your_notebook.ipynb --to pdfункция обработки входного текста\n",
    "def preprocess(text, stop_words, punctuation_marks):\n",
    "    tokens = word_tokenize(text.lower())\n",
    "    preprocessed_text = []\n",
    "    for token in tokens:\n",
    "        if token not in punctuation_marks:\n",
    "            if token not in stop_words:\n",
    "                preprocessed_text.append(token)\n",
    "    return preprocessed_text\n"
   ]
  },
  {
   "cell_type": "code",
   "execution_count": 6,
   "id": "8d6a36be",
   "metadata": {},
   "outputs": [],
   "source": [
    "# Список знаков пунктуации для исключения из входных данных\n",
    "punctuation_marks = ['!', ',', '(', ')', ':', '-', '?', '.', '..', '...', '«', '»', ';', '–', '--']\n",
    "\n",
    "# Список стопслов для исключения из входных данных\n",
    "stop_words = stopwords.words(\"english\")\n",
    "stop_words.append(\"'s\")\n",
    "stop_words.append(\"send\")\n",
    "stop_words.append(\"please\")\n",
    "stop_words.append(\"come\")\n",
    "stop_words.append(\"help\")\n",
    "stop_words.append(\"n't\")\n",
    "stop_words.append(\"saw\")"
   ]
  },
  {
   "cell_type": "code",
   "execution_count": 7,
   "id": "2ad9dc65",
   "metadata": {},
   "outputs": [],
   "source": [
    "# Обработка текста в датасете\n",
    "train_data['Preprocessed_texts'] = train_data.apply(lambda row: preprocess(row['Text'], punctuation_marks, stop_words), axis=1)"
   ]
  },
  {
   "cell_type": "code",
   "execution_count": 8,
   "id": "8f0b3836",
   "metadata": {},
   "outputs": [],
   "source": [
    "# Данные для токенизации слов\n",
    "words = Counter()\n",
    "for txt in train_data['Preprocessed_texts']:\n",
    "    words.update(txt)"
   ]
  },
  {
   "cell_type": "code",
   "execution_count": 9,
   "id": "4c12baee",
   "metadata": {},
   "outputs": [],
   "source": [
    "# Словарь, отображающий слова в коды\n",
    "word_to_index = dict()\n",
    "# Словарь, отображающий коды в слова\n",
    "index_to_word = dict()"
   ]
  },
  {
   "cell_type": "code",
   "execution_count": 10,
   "id": "864a6038",
   "metadata": {},
   "outputs": [],
   "source": [
    "# Назначение токенов словам\n",
    "for i, word in enumerate(words.most_common(max_words - 2)):\n",
    "    word_to_index[word[0]] = i + 2\n",
    "    index_to_word[i + 2] = word[0]\n"
   ]
  },
  {
   "cell_type": "code",
   "execution_count": 11,
   "id": "e58bb78f",
   "metadata": {},
   "outputs": [],
   "source": [
    "# Функция для преобразования списка слов в список кодов\n",
    "def text_to_sequence(txt, word_to_index):\n",
    "    seq = []\n",
    "    for word in txt:\n",
    "        index = word_to_index.get(word, 1)\n",
    "        if index != 1:\n",
    "            seq.append(index)\n",
    "    return seq"
   ]
  },
  {
   "cell_type": "code",
   "execution_count": 12,
   "id": "01e85cf9",
   "metadata": {},
   "outputs": [],
   "source": [
    "# Токенизация текста в датасете\n",
    "train_data['Sequences'] = train_data.apply(lambda row: text_to_sequence(row['Preprocessed_texts'], word_to_index), axis=1)"
   ]
  },
  {
   "cell_type": "code",
   "execution_count": 13,
   "id": "eaaaffe0",
   "metadata": {},
   "outputs": [],
   "source": [
    "# Присвоение индексов классам\n",
    "mapping = {\n",
    "    'fire': 0,\n",
    "    'medical': 1,\n",
    "    'car_accident': 2,\n",
    "    'natural_disasters': 3,\n",
    "    'lost_man': 4,\n",
    "    'airport_emergencies': 5,\n",
    "    'violence': 6,\n",
    "    'animals': 7,\n",
    "}"
   ]
  },
  {
   "cell_type": "code",
   "execution_count": 14,
   "id": "882c13c6",
   "metadata": {},
   "outputs": [],
   "source": [
    "# Распределение данных на тренировочные и тестовые\n",
    "train, test = train_test_split(train_data, test_size=0.05)"
   ]
  },
  {
   "cell_type": "code",
   "execution_count": 15,
   "id": "b783781d",
   "metadata": {},
   "outputs": [],
   "source": [
    "# Выделение нужных данных\n",
    "x_train_seq = train['Sequences']\n",
    "y_train = train['Score']\n",
    "x_test_seq = test['Sequences']\n",
    "y_test = test['Score']"
   ]
  },
  {
   "cell_type": "code",
   "execution_count": 16,
   "id": "98e02766",
   "metadata": {},
   "outputs": [],
   "source": [
    "# Функция токенизации данных\n",
    "def vectorize_sequences(sequences, dimension=10000):\n",
    "    results = np.zeros((len(sequences), dimension))\n",
    "    for i, sequence in enumerate(sequences):\n",
    "        for index in sequence:\n",
    "            results[i, index] += 1.\n",
    "    return results"
   ]
  },
  {
   "cell_type": "code",
   "execution_count": 17,
   "id": "d6481246",
   "metadata": {},
   "outputs": [],
   "source": [
    "# Токенизация данных\n",
    "x_train = vectorize_sequences(x_train_seq, max_words)\n",
    "x_test = vectorize_sequences(x_test_seq, max_words)"
   ]
  },
  {
   "cell_type": "code",
   "execution_count": 18,
   "id": "59ad5f35",
   "metadata": {},
   "outputs": [],
   "source": [
    "# Создание модели\n",
    "lr = LogisticRegression(random_state=random_state, max_iter=500)"
   ]
  },
  {
   "cell_type": "code",
   "execution_count": 19,
   "id": "3d52711e",
   "metadata": {},
   "outputs": [
    {
     "data": {
      "text/html": [
       "<style>#sk-container-id-1 {color: black;background-color: white;}#sk-container-id-1 pre{padding: 0;}#sk-container-id-1 div.sk-toggleable {background-color: white;}#sk-container-id-1 label.sk-toggleable__label {cursor: pointer;display: block;width: 100%;margin-bottom: 0;padding: 0.3em;box-sizing: border-box;text-align: center;}#sk-container-id-1 label.sk-toggleable__label-arrow:before {content: \"▸\";float: left;margin-right: 0.25em;color: #696969;}#sk-container-id-1 label.sk-toggleable__label-arrow:hover:before {color: black;}#sk-container-id-1 div.sk-estimator:hover label.sk-toggleable__label-arrow:before {color: black;}#sk-container-id-1 div.sk-toggleable__content {max-height: 0;max-width: 0;overflow: hidden;text-align: left;background-color: #f0f8ff;}#sk-container-id-1 div.sk-toggleable__content pre {margin: 0.2em;color: black;border-radius: 0.25em;background-color: #f0f8ff;}#sk-container-id-1 input.sk-toggleable__control:checked~div.sk-toggleable__content {max-height: 200px;max-width: 100%;overflow: auto;}#sk-container-id-1 input.sk-toggleable__control:checked~label.sk-toggleable__label-arrow:before {content: \"▾\";}#sk-container-id-1 div.sk-estimator input.sk-toggleable__control:checked~label.sk-toggleable__label {background-color: #d4ebff;}#sk-container-id-1 div.sk-label input.sk-toggleable__control:checked~label.sk-toggleable__label {background-color: #d4ebff;}#sk-container-id-1 input.sk-hidden--visually {border: 0;clip: rect(1px 1px 1px 1px);clip: rect(1px, 1px, 1px, 1px);height: 1px;margin: -1px;overflow: hidden;padding: 0;position: absolute;width: 1px;}#sk-container-id-1 div.sk-estimator {font-family: monospace;background-color: #f0f8ff;border: 1px dotted black;border-radius: 0.25em;box-sizing: border-box;margin-bottom: 0.5em;}#sk-container-id-1 div.sk-estimator:hover {background-color: #d4ebff;}#sk-container-id-1 div.sk-parallel-item::after {content: \"\";width: 100%;border-bottom: 1px solid gray;flex-grow: 1;}#sk-container-id-1 div.sk-label:hover label.sk-toggleable__label {background-color: #d4ebff;}#sk-container-id-1 div.sk-serial::before {content: \"\";position: absolute;border-left: 1px solid gray;box-sizing: border-box;top: 0;bottom: 0;left: 50%;z-index: 0;}#sk-container-id-1 div.sk-serial {display: flex;flex-direction: column;align-items: center;background-color: white;padding-right: 0.2em;padding-left: 0.2em;position: relative;}#sk-container-id-1 div.sk-item {position: relative;z-index: 1;}#sk-container-id-1 div.sk-parallel {display: flex;align-items: stretch;justify-content: center;background-color: white;position: relative;}#sk-container-id-1 div.sk-item::before, #sk-container-id-1 div.sk-parallel-item::before {content: \"\";position: absolute;border-left: 1px solid gray;box-sizing: border-box;top: 0;bottom: 0;left: 50%;z-index: -1;}#sk-container-id-1 div.sk-parallel-item {display: flex;flex-direction: column;z-index: 1;position: relative;background-color: white;}#sk-container-id-1 div.sk-parallel-item:first-child::after {align-self: flex-end;width: 50%;}#sk-container-id-1 div.sk-parallel-item:last-child::after {align-self: flex-start;width: 50%;}#sk-container-id-1 div.sk-parallel-item:only-child::after {width: 0;}#sk-container-id-1 div.sk-dashed-wrapped {border: 1px dashed gray;margin: 0 0.4em 0.5em 0.4em;box-sizing: border-box;padding-bottom: 0.4em;background-color: white;}#sk-container-id-1 div.sk-label label {font-family: monospace;font-weight: bold;display: inline-block;line-height: 1.2em;}#sk-container-id-1 div.sk-label-container {text-align: center;}#sk-container-id-1 div.sk-container {/* jupyter's `normalize.less` sets `[hidden] { display: none; }` but bootstrap.min.css set `[hidden] { display: none !important; }` so we also need the `!important` here to be able to override the default hidden behavior on the sphinx rendered scikit-learn.org. See: https://github.com/scikit-learn/scikit-learn/issues/21755 */display: inline-block !important;position: relative;}#sk-container-id-1 div.sk-text-repr-fallback {display: none;}</style><div id=\"sk-container-id-1\" class=\"sk-top-container\"><div class=\"sk-text-repr-fallback\"><pre>LogisticRegression(max_iter=500, random_state=42)</pre><b>In a Jupyter environment, please rerun this cell to show the HTML representation or trust the notebook. <br />On GitHub, the HTML representation is unable to render, please try loading this page with nbviewer.org.</b></div><div class=\"sk-container\" hidden><div class=\"sk-item\"><div class=\"sk-estimator sk-toggleable\"><input class=\"sk-toggleable__control sk-hidden--visually\" id=\"sk-estimator-id-1\" type=\"checkbox\" checked><label for=\"sk-estimator-id-1\" class=\"sk-toggleable__label sk-toggleable__label-arrow\">LogisticRegression</label><div class=\"sk-toggleable__content\"><pre>LogisticRegression(max_iter=500, random_state=42)</pre></div></div></div></div></div>"
      ],
      "text/plain": [
       "LogisticRegression(max_iter=500, random_state=42)"
      ]
     },
     "execution_count": 19,
     "metadata": {},
     "output_type": "execute_result"
    }
   ],
   "source": [
    "# Обучение модели\n",
    "lr.fit(x_train, y_train)"
   ]
  },
  {
   "cell_type": "code",
   "execution_count": 20,
   "id": "207a0639",
   "metadata": {},
   "outputs": [
    {
     "name": "stdout",
     "output_type": "stream",
     "text": [
      "Test accuracy: 0.9206349206349206\n"
     ]
    }
   ],
   "source": [
    "# Вывод точности модели на тестовых данных\n",
    "print(\"Test accuracy:\", lr.score(x_test, y_test))"
   ]
  },
  {
   "cell_type": "code",
   "execution_count": 21,
   "id": "7d3acd85",
   "metadata": {},
   "outputs": [
    {
     "name": "stdout",
     "output_type": "stream",
     "text": [
      "Testing. enter -1 to exit\n",
      "Enter a sentence: \n",
      ">>> Help! My house is on fire\n",
      "[' fire']\n",
      ">>> I've got a fever\n",
      "[' medical']\n",
      ">>> My dog is sick\n",
      "[' animals']\n",
      ">>> -1\n"
     ]
    }
   ],
   "source": [
    "# Предсказание принадлежности ввода к классу\n",
    "print(\"Testing. enter -1 to exit\")\n",
    "print(\"Enter a sentence: \")\n",
    "while True:\n",
    "    text = input(\">>> \")\n",
    "\n",
    "    if (text == \"-1\"):\n",
    "        break\n",
    "\n",
    "    positive_preprocessed_text = preprocess(text, stop_words, punctuation_marks)\n",
    "    positive_seq = text_to_sequence(positive_preprocessed_text, word_to_index)\n",
    "    positive_bow = vectorize_sequences([positive_seq], max_words)\n",
    "\n",
    "    result = lr.predict(positive_bow)\n",
    "    print(result)"
   ]
  }
 ],
 "metadata": {
  "kernelspec": {
   "display_name": "Python 3 (ipykernel)",
   "language": "python",
   "name": "python3"
  },
  "language_info": {
   "codemirror_mode": {
    "name": "ipython",
    "version": 3
   },
   "file_extension": ".py",
   "mimetype": "text/x-python",
   "name": "python",
   "nbconvert_exporter": "python",
   "pygments_lexer": "ipython3",
   "version": "3.11.2"
  }
 },
 "nbformat": 4,
 "nbformat_minor": 5
}
